{
 "cells": [
  {
   "cell_type": "markdown",
   "metadata": {},
   "source": [
    "# 第８章 サポートベクトルマシン"
   ]
  },
  {
   "cell_type": "markdown",
   "metadata": {},
   "source": [
    "## 8.1 最適な境界"
   ]
  },
  {
   "cell_type": "markdown",
   "metadata": {},
   "source": [
    "## 8.2 最適化の理論"
   ]
  },
  {
   "cell_type": "markdown",
   "metadata": {},
   "source": [
    "## 8.3 サポートベクトルマシンの解"
   ]
  },
  {
   "cell_type": "code",
   "execution_count": 1,
   "metadata": {},
   "outputs": [
    {
     "name": "stderr",
     "output_type": "stream",
     "text": [
      "/home/yuma/.cache/pypoetry/virtualenvs/statistical-learning-with-python-gf79ENdJ-py3.6/lib/python3.6/site-packages/japanize_matplotlib/japanize_matplotlib.py:15: MatplotlibDeprecationWarning: \n",
      "The createFontList function was deprecated in Matplotlib 3.2 and will be removed two minor releases later. Use FontManager.addfont instead.\n",
      "  font_list = font_manager.createFontList(font_files)\n"
     ]
    }
   ],
   "source": [
    "import numpy as np\n",
    "import matplotlib.pyplot as plt\n",
    "%matplotlib inline\n",
    "import japanize_matplotlib\n",
    "import scipy\n",
    "from scipy import stats\n",
    "from numpy.random import randn  #正規乱数"
   ]
  },
  {
   "cell_type": "code",
   "execution_count": 2,
   "metadata": {},
   "outputs": [],
   "source": [
    "import cvxopt\n",
    "from cvxopt import matrix"
   ]
  },
  {
   "cell_type": "code",
   "execution_count": 3,
   "metadata": {},
   "outputs": [],
   "source": [
    "a = randn(1)\n",
    "b = randn(1)\n",
    "n = 100\n",
    "X = randn(n, 2)\n",
    "y = np.sign(a * X[:, 0] + b * X[:, 1] + 0.1 * randn(n))\n",
    "y = y.reshape(-1, 1)  #形を明示してわたす必要がある"
   ]
  },
  {
   "cell_type": "code",
   "execution_count": 4,
   "metadata": {},
   "outputs": [],
   "source": [
    "def svm_1(X, y, C):\n",
    "    eps = 0.0001\n",
    "    n = X.shape[0]\n",
    "    P = np.zeros((n, n))\n",
    "    for i in range(n):\n",
    "        for j in range(n):\n",
    "            P[i, j] = np.dot(X[i, :], X[j, :]) * y[i] * y[j]\n",
    "    #パッケージにあるmatrix関数を使って指定する必要がある\n",
    "    P = matrix(P + np.eye(n) * eps)\n",
    "    A = matrix(-y.T.astype(np.float))\n",
    "    b = matrix(np.array([0]).astype(np.float))\n",
    "    h = matrix(np.array([C] * n + [0] * n).reshape(-1, 1).astype(np.float))\n",
    "    G = matrix(np.concatenate([np.diag(np.ones(n)), np.diag(-np.ones(n))]))\n",
    "    q = matrix(np.array([-1] * n).astype(np.float))\n",
    "    res = cvxopt.solvers.qp(P, q, A=A, b=b, G=G, h=h)  # ソルバーの実行\n",
    "    alpha = np.array(res['x'])  #xが本文中のalphaに対応\n",
    "    beta = ((alpha * y).T @ X).reshape(2, 1)\n",
    "    index = np.arange(0, n, 1)\n",
    "    index_1 = index[eps < alpha[:, 0]]\n",
    "    index_2 = index[(alpha < C - eps)[:, 0]]\n",
    "    index = np.concatenate((index_1, index_2))\n",
    "    beta_0 = np.mean(y[index] - X[index, :] @ beta)\n",
    "    return {'beta': beta, 'beta_0': beta_0}"
   ]
  },
  {
   "cell_type": "code",
   "execution_count": 5,
   "metadata": {},
   "outputs": [
    {
     "data": {
      "text/plain": [
       "<4x2 matrix, tc='d'>"
      ]
     },
     "execution_count": 5,
     "metadata": {},
     "output_type": "execute_result"
    }
   ],
   "source": [
    "n = 10\n",
    "matrix(np.concatenate([np.diag(np.ones(2)), np.diag(-np.ones(2))]))"
   ]
  },
  {
   "cell_type": "code",
   "execution_count": 6,
   "metadata": {},
   "outputs": [
    {
     "name": "stdout",
     "output_type": "stream",
     "text": [
      "     pcost       dcost       gap    pres   dres\n",
      " 0: -1.6555e+02 -9.7472e+03  3e+04  1e+00  1e-14\n",
      " 1: -2.1354e+01 -3.8677e+03  6e+03  1e-01  1e-14\n",
      " 2:  7.2834e+01 -5.4953e+02  8e+02  2e-02  2e-14\n",
      " 3:  6.5517e-01 -1.0587e+02  1e+02  1e-03  9e-15\n",
      " 4: -3.0354e+01 -8.8382e+01  6e+01  6e-04  7e-15\n",
      " 5: -4.4024e+01 -7.1135e+01  3e+01  3e-04  5e-15\n",
      " 6: -5.1784e+01 -6.0827e+01  9e+00  7e-05  6e-15\n",
      " 7: -5.5181e+01 -5.7220e+01  2e+00  9e-06  6e-15\n",
      " 8: -5.6011e+01 -5.6296e+01  3e-01  5e-07  6e-15\n",
      " 9: -5.6145e+01 -5.6147e+01  3e-03  5e-09  7e-15\n",
      "10: -5.6146e+01 -5.6146e+01  3e-05  5e-11  6e-15\n",
      "Optimal solution found.\n"
     ]
    },
    {
     "data": {
      "text/plain": [
       "{'beta': array([[1.18192241],\n",
       "        [8.3152645 ]]),\n",
       " 'beta_0': -0.7702810074074408}"
      ]
     },
     "execution_count": 6,
     "metadata": {},
     "output_type": "execute_result"
    },
    {
     "data": {
      "image/png": "[encoded data removed]",
      "text/plain": [
       "<Figure size 432x288 with 1 Axes>"
      ]
     },
     "metadata": {
      "needs_background": "light"
     },
     "output_type": "display_data"
    }
   ],
   "source": [
    "a = randn(1)\n",
    "b = randn(1)\n",
    "n = 100\n",
    "X = randn(n, 2)\n",
    "y = np.sign(a * X[:, 0] + b * X[:, 1] + 0.1 * randn(n))\n",
    "y = y.reshape(-1, 1)  #形を明示してわたす必要がある\n",
    "for i in range(n):\n",
    "    if y[i] == 1:\n",
    "        plt.scatter(X[i, 0], X[i, 1], c=\"red\")\n",
    "    else:\n",
    "        plt.scatter(X[i, 0], X[i, 1], c=\"blue\")\n",
    "res = svm_1(X, y, C=10)\n",
    "\n",
    "\n",
    "def f(x):\n",
    "    return -res['beta_0'] / res['beta'][1] - x * res['beta'][0] / res['beta'][1]\n",
    "\n",
    "\n",
    "x_seq = np.arange(-3, 3, 0.5)\n",
    "plt.plot(x_seq, f(x_seq))\n",
    "res"
   ]
  },
  {
   "cell_type": "markdown",
   "metadata": {},
   "source": [
    "## 8.4 カーネルを用いたサポートベクトルマシンの拡張"
   ]
  },
  {
   "cell_type": "code",
   "execution_count": 7,
   "metadata": {},
   "outputs": [],
   "source": [
    "def K_linear(x, y):\n",
    "    return x.T @ y\n",
    "\n",
    "\n",
    "def K_poly(x, y):\n",
    "    return (1 + x.T @ y)**2"
   ]
  },
  {
   "cell_type": "code",
   "execution_count": 8,
   "metadata": {},
   "outputs": [],
   "source": [
    "def svm_2(X, y, C, K):\n",
    "    eps = 0.0001\n",
    "    n = X.shape[0]\n",
    "    P = np.zeros((n, n))\n",
    "    for i in range(n):\n",
    "        for j in range(n):\n",
    "            P[i, j] = K(X[i, :], X[j, :]) * y[i] * y[j]\n",
    "    #パッケージにあるmatrix関数を使って指定する必要がある\n",
    "    P = matrix(P + np.eye(n) * eps)\n",
    "    A = matrix(-y.T.astype(np.float))\n",
    "    b = matrix(np.array([0]).astype(np.float))\n",
    "    h = matrix(np.array([C] * n + [0] * n).reshape(-1, 1).astype(np.float))\n",
    "    G = matrix(np.concatenate([np.diag(np.ones(n)), np.diag(-np.ones(n))]))\n",
    "    q = matrix(np.array([-1] * n).astype(np.float))\n",
    "    res = cvxopt.solvers.qp(P, q, A=A, b=b, G=G, h=h)\n",
    "    alpha = np.array(res['x'])  #xが本文中のalphaに対応\n",
    "    beta = ((alpha * y).T @ X).reshape(2, 1)\n",
    "    index = np.arange(0, n, 1)\n",
    "    index_1 = index[eps < alpha[:, 0]]\n",
    "    index_2 = index[(alpha < C - eps)[:, 0]]\n",
    "    index = np.concatenate((index_1, index_2))\n",
    "    beta_0 = np.mean(y[index] - X[index, :] @ beta)\n",
    "    return {'alpha': alpha, 'beta': beta, 'beta_0': beta_0}"
   ]
  },
  {
   "cell_type": "code",
   "execution_count": 9,
   "metadata": {},
   "outputs": [],
   "source": [
    "# 実行\n",
    "a = 3\n",
    "b = -1\n",
    "n = 200\n",
    "X = randn(n, 2)\n",
    "y = np.sign(a * X[:, 0] + b * X[:, 1]**2 + 0.3 * randn(n))\n",
    "y = y.reshape(-1, 1)"
   ]
  },
  {
   "cell_type": "code",
   "execution_count": 10,
   "metadata": {},
   "outputs": [],
   "source": [
    "def plot_kernel(K, line):  #引数lineで線の種類を指定する\n",
    "    res = svm_2(X, y, 1, K)\n",
    "    alpha = res['alpha'][:, 0]\n",
    "    beta_0 = res['beta_0']\n",
    "\n",
    "    def f(u, v):\n",
    "        S = beta_0\n",
    "        for i in range(X.shape[0]):\n",
    "            S = S + alpha[i] * y[i] * K(X[i, :], [u, v])\n",
    "        return S[0]\n",
    "\n",
    "    uu = np.arange(-2, 2, 0.1)\n",
    "    vv = np.arange(-2, 2, 0.1)\n",
    "    ww = []\n",
    "    for v in vv:\n",
    "        w = []\n",
    "        for u in uu:\n",
    "            w.append(f(u, v))\n",
    "        ww.append(w)\n",
    "    plt.contour(uu, vv, ww, levels=0, linestyles=line)"
   ]
  },
  {
   "cell_type": "code",
   "execution_count": 11,
   "metadata": {},
   "outputs": [
    {
     "name": "stdout",
     "output_type": "stream",
     "text": [
      "     pcost       dcost       gap    pres   dres\n",
      " 0: -6.6808e+01 -4.8212e+02  3e+03  3e+00  2e-14\n",
      " 1: -4.2157e+01 -3.0844e+02  5e+02  5e-01  1e-14\n",
      " 2: -2.5147e+01 -1.1942e+02  1e+02  1e-01  8e-15\n",
      " 3: -2.2925e+01 -4.3543e+01  3e+01  2e-02  3e-15\n",
      " 4: -2.5168e+01 -3.2753e+01  1e+01  5e-03  3e-15\n",
      " 5: -2.6243e+01 -2.8993e+01  3e+00  1e-03  3e-15\n",
      " 6: -2.6849e+01 -2.7766e+01  1e+00  3e-04  4e-15\n",
      " 7: -2.7102e+01 -2.7341e+01  2e-01  1e-05  4e-15\n",
      " 8: -2.7209e+01 -2.7214e+01  5e-03  2e-08  4e-15\n",
      " 9: -2.7211e+01 -2.7211e+01  1e-04  3e-10  4e-15\n",
      "10: -2.7211e+01 -2.7211e+01  2e-06  3e-12  5e-15\n",
      "Optimal solution found.\n",
      "     pcost       dcost       gap    pres   dres\n",
      " 0: -7.9387e+01 -4.3619e+02  2e+03  2e+00  4e-15\n",
      " 1: -5.3241e+01 -2.6967e+02  4e+02  3e-01  2e-15\n",
      " 2: -4.4913e+01 -8.2217e+01  5e+01  2e-02  4e-15\n",
      " 3: -5.1042e+01 -6.0201e+01  1e+01  5e-03  2e-15\n",
      " 4: -5.2927e+01 -5.7245e+01  5e+00  2e-03  2e-15\n",
      " 5: -5.4392e+01 -5.5085e+01  7e-01  2e-04  2e-15\n",
      " 6: -5.4681e+01 -5.4727e+01  5e-02  1e-05  3e-15\n",
      " 7: -5.4699e+01 -5.4703e+01  4e-03  5e-07  2e-15\n",
      " 8: -5.4701e+01 -5.4701e+01  4e-05  5e-09  3e-15\n",
      "Optimal solution found.\n"
     ]
    },
    {
     "data": {
      "image/png": "[encoded data removed]",
      "text/plain": [
       "<Figure size 432x288 with 1 Axes>"
      ]
     },
     "metadata": {
      "needs_background": "light"
     },
     "output_type": "display_data"
    }
   ],
   "source": [
    "for i in range(n):\n",
    "    if y[i] == 1:\n",
    "        plt.scatter(X[i, 0], X[i, 1], c=\"red\")\n",
    "    else:\n",
    "        plt.scatter(X[i, 0], X[i, 1], c=\"blue\")\n",
    "plot_kernel(K_poly, line=\"dashed\")\n",
    "plot_kernel(K_linear, line=\"solid\")"
   ]
  },
  {
   "cell_type": "code",
   "execution_count": 12,
   "metadata": {},
   "outputs": [],
   "source": [
    "import sklearn\n",
    "from sklearn import svm"
   ]
  },
  {
   "cell_type": "code",
   "execution_count": 13,
   "metadata": {},
   "outputs": [],
   "source": [
    "x = randn(200, 2)\n",
    "x[0:100, ] = x[0:100, ] + 2\n",
    "x[100:150, ] = x[100:150, ] - 2\n",
    "y = np.concatenate(([1 for i in range(150)], [2 for i in range(50)]))"
   ]
  },
  {
   "cell_type": "code",
   "execution_count": 14,
   "metadata": {},
   "outputs": [],
   "source": [
    "train = np.random.choice(200, 100, replace=False)\n",
    "test = list(set(range(200)) - set(train))\n",
    "res_svm = svm.SVC(kernel=\"rbf\", gamma=1, C=100)  #チューニングなしのSVM"
   ]
  },
  {
   "cell_type": "code",
   "execution_count": 15,
   "metadata": {},
   "outputs": [
    {
     "data": {
      "text/plain": [
       "SVC(C=100, gamma=1)"
      ]
     },
     "execution_count": 15,
     "metadata": {},
     "output_type": "execute_result"
    }
   ],
   "source": [
    "res_svm.fit(x[train, ], y[train])  #実行"
   ]
  },
  {
   "cell_type": "code",
   "execution_count": 16,
   "metadata": {},
   "outputs": [
    {
     "data": {
      "text/plain": [
       "array([1, 2, 1, 1, 1, 1, 1, 1, 1, 1, 1, 1, 1, 1, 1, 1, 1, 1, 1, 1, 1, 1,\n",
       "       1, 1, 1, 2, 1, 1, 1, 1, 1, 1, 1, 1, 1, 1, 1, 2, 1, 1, 1, 2, 2, 2,\n",
       "       1, 1, 1, 1, 1, 1, 1, 1, 1, 2, 1, 1, 1, 1, 1, 1, 1, 1, 1, 1, 1, 1,\n",
       "       1, 1, 1, 1, 1, 1, 1, 2, 2, 1, 1, 2, 1, 2, 1, 1, 1, 2, 2, 1, 2, 2,\n",
       "       2, 1, 2, 1, 1, 2, 1, 1, 1, 2, 1, 2])"
      ]
     },
     "execution_count": 16,
     "metadata": {},
     "output_type": "execute_result"
    }
   ],
   "source": [
    "res_svm.predict(x[test, ])  #テストデータの予測結果"
   ]
  },
  {
   "cell_type": "code",
   "execution_count": 17,
   "metadata": {},
   "outputs": [],
   "source": [
    "import mlxtend\n",
    "from mlxtend.plotting import plot_decision_regions"
   ]
  },
  {
   "cell_type": "code",
   "execution_count": 18,
   "metadata": {},
   "outputs": [
    {
     "name": "stderr",
     "output_type": "stream",
     "text": [
      "/home/yuma/.cache/pypoetry/virtualenvs/statistical-learning-with-python-gf79ENdJ-py3.6/lib/python3.6/site-packages/mlxtend/plotting/decision_regions.py:249: MatplotlibDeprecationWarning: Passing unsupported keyword arguments to axis() will raise a TypeError in 3.3.\n",
      "  ax.axis(xmin=xx.min(), xmax=xx.max(), y_min=yy.min(), y_max=yy.max())\n"
     ]
    },
    {
     "data": {
      "text/plain": [
       "<matplotlib.axes._subplots.AxesSubplot at 0x7f9f5db6d588>"
      ]
     },
     "execution_count": 18,
     "metadata": {},
     "output_type": "execute_result"
    },
    {
     "data": {
      "image/png": "[encoded data removed]",
      "text/plain": [
       "<Figure size 432x288 with 1 Axes>"
      ]
     },
     "metadata": {
      "needs_background": "light"
     },
     "output_type": "display_data"
    }
   ],
   "source": [
    "plot_decision_regions(x, y, clf=res_svm)"
   ]
  },
  {
   "cell_type": "code",
   "execution_count": 19,
   "metadata": {},
   "outputs": [],
   "source": [
    "from sklearn.model_selection import GridSearchCV"
   ]
  },
  {
   "cell_type": "code",
   "execution_count": 20,
   "metadata": {},
   "outputs": [],
   "source": [
    "grid = {'C': [0.1, 1, 10, 100, 1000], 'gamma': [0.5, 1, 2, 3, 4]}"
   ]
  },
  {
   "cell_type": "code",
   "execution_count": 21,
   "metadata": {},
   "outputs": [
    {
     "data": {
      "text/plain": [
       "GridSearchCV(cv=10, estimator=SVC(),\n",
       "             param_grid={'C': [0.1, 1, 10, 100, 1000],\n",
       "                         'gamma': [0.5, 1, 2, 3, 4]})"
      ]
     },
     "execution_count": 21,
     "metadata": {},
     "output_type": "execute_result"
    }
   ],
   "source": [
    "tune = GridSearchCV(svm.SVC(), grid, cv=10)\n",
    "tune.fit(x[train, ], y[train])"
   ]
  },
  {
   "cell_type": "code",
   "execution_count": 22,
   "metadata": {},
   "outputs": [
    {
     "data": {
      "text/plain": [
       "{'C': 1, 'gamma': 0.5}"
      ]
     },
     "execution_count": 22,
     "metadata": {},
     "output_type": "execute_result"
    }
   ],
   "source": [
    "tune.best_params_  #C=1, gamma=0.5が最適だとわかる"
   ]
  },
  {
   "cell_type": "code",
   "execution_count": 23,
   "metadata": {},
   "outputs": [],
   "source": [
    "from sklearn.datasets import load_iris\n",
    "iris = load_iris()\n",
    "iris.target_names\n",
    "x = iris.data\n",
    "y = iris.target\n",
    "train = np.random.choice(150, 120, replace=False)\n",
    "test = np.ones(150, dtype=bool)\n",
    "test[train] = False"
   ]
  },
  {
   "cell_type": "code",
   "execution_count": 24,
   "metadata": {},
   "outputs": [
    {
     "data": {
      "text/plain": [
       "SVC(C=10, gamma=1)"
      ]
     },
     "execution_count": 24,
     "metadata": {},
     "output_type": "execute_result"
    }
   ],
   "source": [
    "iris_svm = svm.SVC(kernel=\"rbf\", gamma=1, C=10)\n",
    "iris_svm.fit(x[train, ], y[train])"
   ]
  },
  {
   "cell_type": "code",
   "execution_count": 25,
   "metadata": {},
   "outputs": [],
   "source": [
    "# 2章で定義した関数table_count (再掲)\n",
    "def table_count(m, u, v):\n",
    "    n = u.shape[0]\n",
    "    count = np.zeros([m, m])\n",
    "    for i in range(n):\n",
    "        count[int(u[i]), int(v[i])] += 1\n",
    "    return (count)"
   ]
  },
  {
   "cell_type": "code",
   "execution_count": 26,
   "metadata": {
    "scrolled": true
   },
   "outputs": [
    {
     "data": {
      "text/plain": [
       "array([[ 9.,  0.,  0.],\n",
       "       [ 0., 11.,  1.],\n",
       "       [ 0.,  0.,  9.]])"
      ]
     },
     "execution_count": 26,
     "metadata": {},
     "output_type": "execute_result"
    }
   ],
   "source": [
    "y_pre = iris_svm.predict(x[test, ])\n",
    "table_count(3, y[test], y_pre)"
   ]
  }
 ],
 "metadata": {
  "kernelspec": {
   "display_name": "Python 3",
   "language": "python",
   "name": "python3"
  },
  "language_info": {
   "codemirror_mode": {
    "name": "ipython",
    "version": 3
   },
   "file_extension": ".py",
   "mimetype": "text/x-python",
   "name": "python",
   "nbconvert_exporter": "python",
   "pygments_lexer": "ipython3",
   "version": "3.6.9"
  }
 },
 "nbformat": 4,
 "nbformat_minor": 2
}
