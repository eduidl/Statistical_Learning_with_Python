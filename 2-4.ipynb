{
 "cells": [
  {
   "cell_type": "markdown",
   "metadata": {},
   "source": [
    "# 第4章 情報量基準"
   ]
  },
  {
   "cell_type": "markdown",
   "metadata": {},
   "source": [
    "## 4.1 情報量規準"
   ]
  },
  {
   "cell_type": "code",
   "execution_count": 1,
   "metadata": {},
   "outputs": [
    {
     "name": "stderr",
     "output_type": "stream",
     "text": [
      "/home/yuma/.cache/pypoetry/virtualenvs/statistical-learning-with-python-gf79ENdJ-py3.6/lib/python3.6/site-packages/japanize_matplotlib/japanize_matplotlib.py:15: MatplotlibDeprecationWarning: \n",
      "The createFontList function was deprecated in Matplotlib 3.2 and will be removed two minor releases later. Use FontManager.addfont instead.\n",
      "  font_list = font_manager.createFontList(font_files)\n"
     ]
    }
   ],
   "source": [
    "import numpy as np\n",
    "import matplotlib.pyplot as plt\n",
    "%matplotlib inline\n",
    "import japanize_matplotlib\n",
    "import scipy\n",
    "from scipy import stats\n",
    "from numpy.random import randn"
   ]
  },
  {
   "cell_type": "code",
   "execution_count": 2,
   "metadata": {},
   "outputs": [],
   "source": [
    "from sklearn.linear_model import LinearRegression\n",
    "import itertools  # 組合わせを列挙する"
   ]
  },
  {
   "cell_type": "code",
   "execution_count": 3,
   "metadata": {},
   "outputs": [],
   "source": [
    "res = LinearRegression()"
   ]
  },
  {
   "cell_type": "code",
   "execution_count": 4,
   "metadata": {},
   "outputs": [],
   "source": [
    "def RSS_min(X, y, T):\n",
    "    S_min = np.inf\n",
    "    m = len(T)\n",
    "    for j in range(m):\n",
    "        q = T[j]\n",
    "        res.fit(X[:, q], y)\n",
    "        y_hat = res.predict(X[:, q])\n",
    "        S = np.linalg.norm(y_hat - y)**2\n",
    "        if S < S_min:\n",
    "            S_min = S\n",
    "            set_q = q\n",
    "    return (S_min, set_q)"
   ]
  },
  {
   "cell_type": "code",
   "execution_count": 5,
   "metadata": {},
   "outputs": [],
   "source": [
    "from sklearn.datasets import load_boston"
   ]
  },
  {
   "cell_type": "code",
   "execution_count": 6,
   "metadata": {},
   "outputs": [],
   "source": [
    "boston = load_boston()\n",
    "X = boston.data[:, [0, 2, 4, 5, 6, 7, 9, 10, 11, 12]]\n",
    "y = boston.target"
   ]
  },
  {
   "cell_type": "code",
   "execution_count": 7,
   "metadata": {},
   "outputs": [
    {
     "name": "stdout",
     "output_type": "stream",
     "text": [
      "4770.415163216072 (0, 2, 3, 5, 7, 8, 9)\n"
     ]
    }
   ],
   "source": [
    "n, p = X.shape\n",
    "AIC_min = np.inf\n",
    "for k in range(1, p + 1, 1):\n",
    "    T = list(itertools.combinations(range(p), k))\n",
    "    # p個からk個を選ぶ組合わせを各列にもつ\n",
    "    S_min, set_q = RSS_min(X, y, T)\n",
    "    AIC = n * np.log(S_min) + 2 * k  ##\n",
    "    if AIC < AIC_min:\n",
    "        AIC_min = AIC\n",
    "        set_min = set_q\n",
    "print(AIC_min, set_min)"
   ]
  },
  {
   "cell_type": "code",
   "execution_count": 8,
   "metadata": {},
   "outputs": [],
   "source": [
    "y_bar = np.mean(y)\n",
    "TSS = np.linalg.norm(y - y_bar)**2"
   ]
  },
  {
   "cell_type": "code",
   "execution_count": 9,
   "metadata": {},
   "outputs": [
    {
     "name": "stdout",
     "output_type": "stream",
     "text": [
      "0.9999988717090253 (0, 1, 2, 3, 4, 5, 6, 7, 8, 9)\n"
     ]
    }
   ],
   "source": [
    "D_max = -np.inf\n",
    "for k in range(1, p + 1, 1):\n",
    "    T = list(itertools.combinations(range(p), k))\n",
    "    S_min, set_q = RSS_min(X, y, T)\n",
    "    D = 1 - (S_min / (n - p - 1)) / (TSS * (n - 1))\n",
    "    if D > D_max:\n",
    "        D_max = D\n",
    "        set_max = set_q\n",
    "print(D_max, set_q)"
   ]
  },
  {
   "cell_type": "code",
   "execution_count": 10,
   "metadata": {},
   "outputs": [],
   "source": [
    "def IC(X, y, k):\n",
    "    n, p = X.shape\n",
    "    T = list(itertools.combinations(range(p), k))\n",
    "    S, set_q = RSS_min(X, y, T)\n",
    "    AIC = n * np.log(S) + 2 * k\n",
    "    BIC = n * np.log(S) + k * np.log(n)\n",
    "    return {'AIC': AIC, 'BIC': BIC}"
   ]
  },
  {
   "cell_type": "code",
   "execution_count": 11,
   "metadata": {},
   "outputs": [],
   "source": [
    "AIC_seq = []\n",
    "BIC_seq = []\n",
    "for k in range(1, p + 1, 1):\n",
    "    AIC_seq.append(IC(X, y, k)['AIC'])\n",
    "    BIC_seq.append(IC(X, y, k)['BIC'])"
   ]
  },
  {
   "cell_type": "code",
   "execution_count": 12,
   "metadata": {},
   "outputs": [],
   "source": [
    "x_seq = np.arange(1, p + 1, 1)"
   ]
  },
  {
   "cell_type": "code",
   "execution_count": 13,
   "metadata": {},
   "outputs": [
    {
     "data": {
      "text/plain": [
       "<matplotlib.legend.Legend at 0x7f08579e4320>"
      ]
     },
     "execution_count": 13,
     "metadata": {},
     "output_type": "execute_result"
    },
    {
     "data": {
      "image/png": "[encoded data removed]",
      "text/plain": [
       "<Figure size 432x288 with 1 Axes>"
      ]
     },
     "metadata": {
      "needs_background": "light"
     },
     "output_type": "display_data"
    }
   ],
   "source": [
    "plt.plot(x_seq, AIC_seq, c=\"red\", label=\"AIC\")\n",
    "plt.plot(x_seq, BIC_seq, c=\"blue\", label=\"BIC\")\n",
    "plt.xlabel(\"変数の個数\")\n",
    "plt.ylabel(\"AIC/BICの値\")\n",
    "plt.title(\"変数の個数とAICとBICの値の変化\")\n",
    "plt.legend()"
   ]
  },
  {
   "cell_type": "markdown",
   "metadata": {},
   "source": [
    "## 4.2 有効推定量とFisher情報量行列"
   ]
  },
  {
   "cell_type": "markdown",
   "metadata": {},
   "source": [
    "## 4.3 Kullback-Leibler 情報量"
   ]
  },
  {
   "cell_type": "markdown",
   "metadata": {},
   "source": [
    "## 4.4 赤池の情報量規準(AIC)の導出"
   ]
  }
 ],
 "metadata": {
  "kernelspec": {
   "display_name": "Python 3",
   "language": "python",
   "name": "python3"
  },
  "language_info": {
   "codemirror_mode": {
    "name": "ipython",
    "version": 3
   },
   "file_extension": ".py",
   "mimetype": "text/x-python",
   "name": "python",
   "nbconvert_exporter": "python",
   "pygments_lexer": "ipython3",
   "version": "3.6.9"
  }
 },
 "nbformat": 4,
 "nbformat_minor": 2
}
